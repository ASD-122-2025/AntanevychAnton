{
 "cells": [
  {
   "cell_type": "markdown",
   "id": "7b823e96-ec1f-4737-ae63-4faf36387edb",
   "metadata": {},
   "source": [
    "# Лабараторна робота №6 \n",
    "\n",
    "---\n",
    "\n",
    "**Завдання для самостійної роботи:**  "
   ]
  },
  {
   "cell_type": "markdown",
   "id": "d4bb487a-17ec-45ea-8ff4-4f0d2013cd49",
   "metadata": {},
   "source": [
    "# Завдання для самостійної роботи\n",
    "\n",
    "### Стек (Stack)\n",
    "Функція pop_n()"
   ]
  },
  {
   "cell_type": "code",
   "execution_count": 2,
   "id": "fd253695-a10d-467e-a618-ef763e945806",
   "metadata": {},
   "outputs": [
    {
     "ename": "NameError",
     "evalue": "name 's' is not defined",
     "output_type": "error",
     "traceback": [
      "\u001b[31m---------------------------------------------------------------------------\u001b[39m",
      "\u001b[31mNameError\u001b[39m                                 Traceback (most recent call last)",
      "\u001b[36mCell\u001b[39m\u001b[36m \u001b[39m\u001b[32mIn[2]\u001b[39m\u001b[32m, line 15\u001b[39m\n\u001b[32m     12\u001b[39m         stack.items = stack.items[:-n]\n\u001b[32m     14\u001b[39m         s = Stack()\n\u001b[32m---> \u001b[39m\u001b[32m15\u001b[39m s.push(\u001b[32m1\u001b[39m)\n\u001b[32m     16\u001b[39m s.push(\u001b[32m2\u001b[39m)\n\u001b[32m     17\u001b[39m s.push(\u001b[32m3\u001b[39m)\n",
      "\u001b[31mNameError\u001b[39m: name 's' is not defined"
     ]
    }
   ],
   "source": [
    "def pop_n(stack, n):\n",
    "    \"\"\"\n",
    "    Видаляє n елементів з вершини стека\n",
    "    :param stack: об'єкт класу Stack\n",
    "    :param n: кількість елементів для видалення\n",
    "    \"\"\"\n",
    "    if n <= 0 or stack.isEmpty():\n",
    "        return\n",
    "    if n >= stack.size():\n",
    "        stack.items = []\n",
    "    else:\n",
    "        stack.items = stack.items[:-n]\n",
    "        \n",
    "        s = Stack()\n",
    "s.push(1)\n",
    "s.push(2)\n",
    "s.push(3)\n",
    "s.push(4)\n",
    "pop_n(s, 2)\n",
    "print(s.items)  # Виведе: [1, 2]"
   ]
  },
  {
   "cell_type": "markdown",
   "id": "e17b1066-cd59-4b9a-af0c-0181ad4e35de",
   "metadata": {},
   "source": [
    "Аналіз складності операцій для стеку\n",
    "\n",
    "| Операція | Середній випадок | Найгірший випадок | Пояснення |\n",
    "|----------|------------------|-------------------|-----------|\n",
    "| search   | O(n)             | O(n)              | Лінійний пошук по всіх елементах |\n",
    "| insert   | O(1)             | O(1)              | Додавання в кінець списку |\n",
    "| delete   | O(1)             | O(1)              | Видалення з кінця списку |"
   ]
  },
  {
   "cell_type": "markdown",
   "id": "06018948-a1ab-4278-9ef8-30ba811f4493",
   "metadata": {},
   "source": [
    "###   Черга (Queue)\n",
    "Функція print_n()"
   ]
  },
  {
   "cell_type": "code",
   "execution_count": 3,
   "id": "991b750c-f2fa-4c0b-b919-d5a69ab0346f",
   "metadata": {},
   "outputs": [
    {
     "ename": "NameError",
     "evalue": "name 'q' is not defined",
     "output_type": "error",
     "traceback": [
      "\u001b[31m---------------------------------------------------------------------------\u001b[39m",
      "\u001b[31mNameError\u001b[39m                                 Traceback (most recent call last)",
      "\u001b[36mCell\u001b[39m\u001b[36m \u001b[39m\u001b[32mIn[3]\u001b[39m\u001b[32m, line 13\u001b[39m\n\u001b[32m     10\u001b[39m         \u001b[38;5;28mprint\u001b[39m(queue.items[-(i+\u001b[32m1\u001b[39m)])\n\u001b[32m     12\u001b[39m         q = Queue()\n\u001b[32m---> \u001b[39m\u001b[32m13\u001b[39m q.enqueue(\u001b[33m'\u001b[39m\u001b[33ma\u001b[39m\u001b[33m'\u001b[39m)\n\u001b[32m     14\u001b[39m q.enqueue(\u001b[33m'\u001b[39m\u001b[33mb\u001b[39m\u001b[33m'\u001b[39m)\n\u001b[32m     15\u001b[39m q.enqueue(\u001b[33m'\u001b[39m\u001b[33mc\u001b[39m\u001b[33m'\u001b[39m)\n",
      "\u001b[31mNameError\u001b[39m: name 'q' is not defined"
     ]
    }
   ],
   "source": [
    "def print_n(queue, n):\n",
    "    if n <= 0 or queue.isEmpty():\n",
    "        return\n",
    "    for i in range(min(n, queue.size())):\n",
    "        print(queue.items[-(i+1)])\n",
    "\n",
    "        q = Queue()\n",
    "q.enqueue('a')\n",
    "q.enqueue('b')\n",
    "q.enqueue('c')\n",
    "print_n(q, 2)  # Виведе: b\\na"
   ]
  },
  {
   "cell_type": "markdown",
   "id": "4ab0b5c8-734c-4f27-a118-f962c0c4ce6d",
   "metadata": {},
   "source": [
    "Аналіз складності операцій для черги\n",
    "\n",
    "\n",
    "| Операція | Середній випадок | Найгірший випадок | Пояснення |\n",
    "|----------|------------------|-------------------|-----------|\n",
    "| search   | O(n)             | O(n)              | Лінійний пошук по всіх елементах |\n",
    "| insert   | O(n)             | O(n)              | Додавання на початок списку (insert(0, item)) |\n",
    "| delete   | O(1)             | O(1)              | Видалення з кінця списку |"
   ]
  },
  {
   "cell_type": "markdown",
   "id": "a12409eb-6777-4127-8b0b-dcf8c4b5015a",
   "metadata": {},
   "source": [
    "### Оптимізація черги"
   ]
  },
  {
   "cell_type": "code",
   "execution_count": 4,
   "id": "07e5795a-e32e-4aae-a51c-6b215a56c852",
   "metadata": {},
   "outputs": [],
   "source": [
    "from collections import deque\n",
    "\n",
    "class OptimizedQueue:\n",
    "    def __init__(self):\n",
    "        self.items = deque()\n",
    "\n",
    "    def enqueue(self, item):\n",
    "        self.items.appendleft(item)\n",
    "\n",
    "    def dequeue(self):\n",
    "        return self.items.pop()\n",
    "\n",
    "    def isEmpty(self):\n",
    "        return len(self.items) == 0\n",
    "\n",
    "    def size(self):\n",
    "        return len(self.items)"
   ]
  },
  {
   "cell_type": "markdown",
   "id": "a68cea58-ffc5-4af1-bf69-0c74bd64db2e",
   "metadata": {},
   "source": [
    "Переваги оптимізованої черги\n",
    "\n",
    "- **enqueue**: O(1) замість O(n)\n",
    "- **dequeue**: O(1) (як і раніше)\n",
    "- Всі інші операції також O(1)\n",
    "- Ефективніше використовує пам'ять\n",
    "- Швидше виконує операції додавання/видалення"
   ]
  },
  {
   "cell_type": "markdown",
   "id": "7f19b2fa-b983-4f1c-b763-e183f9c4f8f6",
   "metadata": {},
   "source": [
    "| №  | Контрольне питання                                                                 | Відповідь                                                                                     |\n",
    "|----|-----------------------------------------------------------------------------------|----------------------------------------------------------------------------------------------|\n",
    "| 1  | Що таке стек і які операції можна виконувати зі стеком?                          | **Стек** - структура даних типу LIFO (Last In, First Out). Основні операції:<ul><li>`push` (додати елемент)</li><li>`pop` (видалити верхній елемент)</li><li>`peek` (переглянути верхній елемент)</li><li>`is_empty` (перевірка на порожність)</li></ul> |\n",
    "| 2  | Яка основна відмінність між стеком та чергою?                                   | **Стек**: LIFO (останній прийшов - перший вийшов). **Черга**: FIFO (перший прийшов - перший вийшов). |\n",
    "| 3  | Реалізація стека: масив vs зв’язаний список                                     | **Масив**:<ul><li>Швидкий доступ</li><li>Фіксований розмір (якщо не динамічний)</li></ul>**Зв’язаний список**:<ul><li>Гнучкість розміру</li><li>Додаткові витрати пам'яті на вказівники</li></ul> |\n",
    "| 4  | Застосування стека та черги                                                     | **Стек**:<ul><li>Відмінення дій (Ctrl+Z)</li><li>Рекурсія/виклики функцій</li><li>Синтаксичний аналіз (напр., дужки)</li></ul>**Черга**:<ul><li>Обробка завдань (принтер)</li><li>BFS (пошук у ширину)</li><li>Системи обслуговування</li></ul> |"
   ]
  }
 ],
 "metadata": {
  "kernelspec": {
   "display_name": "Python 3 (ipykernel)",
   "language": "python",
   "name": "python3"
  },
  "language_info": {
   "codemirror_mode": {
    "name": "ipython",
    "version": 3
   },
   "file_extension": ".py",
   "mimetype": "text/x-python",
   "name": "python",
   "nbconvert_exporter": "python",
   "pygments_lexer": "ipython3",
   "version": "3.13.2"
  }
 },
 "nbformat": 4,
 "nbformat_minor": 5
}
