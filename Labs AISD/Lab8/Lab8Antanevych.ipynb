{
 "cells": [
  {
   "cell_type": "markdown",
   "id": "781bbe57-8afe-4851-a6df-abc558011d2f",
   "metadata": {},
   "source": [
    "# Лабараторна робота №6 \n",
    "\n",
    "---\n",
    "\n",
    "**Завдання для самостійної роботи:**  "
   ]
  },
  {
   "cell_type": "code",
   "execution_count": null,
   "id": "4832195f-ca06-4cfb-ac02-92e989fd0757",
   "metadata": {},
   "outputs": [],
   "source": []
  }
 ],
 "metadata": {
  "kernelspec": {
   "display_name": "Python 3 (ipykernel)",
   "language": "python",
   "name": "python3"
  },
  "language_info": {
   "codemirror_mode": {
    "name": "ipython",
    "version": 3
   },
   "file_extension": ".py",
   "mimetype": "text/x-python",
   "name": "python",
   "nbconvert_exporter": "python",
   "pygments_lexer": "ipython3",
   "version": "3.13.2"
  }
 },
 "nbformat": 4,
 "nbformat_minor": 5
}
