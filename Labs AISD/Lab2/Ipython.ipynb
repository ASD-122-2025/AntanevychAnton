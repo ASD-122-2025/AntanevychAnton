{
 "cells": [
  {
   "cell_type": "markdown",
   "id": "096e1fe5-fb21-4ee7-8748-3bab9dd8363f",
   "metadata": {},
   "source": [
    "# Налаштування Conda\n",
    "![Налаштування Conda](../Lab2/Paint1.PNG)"
   ]
  },
  {
   "cell_type": "markdown",
   "id": "d127228e-2e6f-4c0d-ae0b-bbb0e8509300",
   "metadata": {},
   "source": [
    "# Jupiter Notebook\n",
    "![Jupiter Notebook](../Lab2/Paint2.PNG)"
   ]
  },
  {
   "cell_type": "markdown",
   "id": "3aafda79-30a2-499c-92f0-c2ed885a5d98",
   "metadata": {},
   "source": [
    "# Запуск JupiterLab \n",
    "\n",
    "- conda activate myenv\n",
    "- jupyter lab\n",
    "![Запуск JupiterLab ](../Lab2/Paint3.PNG)"
   ]
  },
  {
   "cell_type": "markdown",
   "id": "4043ccb7-bac8-4709-9609-f8ad0dea1529",
   "metadata": {},
   "source": [
    "# Робота з Quardo\n",
    "- quarto preview ipython.ipynb\n",
    "![Запуск JupiterLab ](../Lab2/Paint2.PNG)"
   ]
  },
  {
   "cell_type": "markdown",
   "id": "eac75a1f-a572-4a4d-94be-48ca645fdbf0",
   "metadata": {},
   "source": [
    "## Контрольні питання\n",
    "\n",
    "### 1. Що таке pip і conda та чим вони відрізняються між собою?\n",
    "\n",
    "- **pip** — це пакетний менеджер для встановлення Python-бібліотек із PyPI.\n",
    "- **conda** — це потужніший менеджер середовищ та пакетів, що дозволяє встановлювати як Python-, так і системні бібліотеки.\n",
    "\n",
    "**Основні відмінності:**\n",
    "- `pip` працює лише з Python-пакетами, `conda` — з ширшим спектром.\n",
    "- `conda` вміє створювати ізольовані середовища і краще керує залежностями.\n",
    "- `pip` використовує PyPI, а `conda` — власне сховище Anaconda.\n",
    "\n",
    "---\n",
    "\n",
    "### 2. Як виглядатиме виконання пунктів 1–3 індивідуального завдання за допомогою Virtualenv?\n",
    "\n",
    "```bash\n",
    "# 1. Встановлення virtualenv\n",
    "pip install virtualenv\n",
    "\n",
    "# 2. Створення віртуального середовища\n",
    "virtualenv myenv\n",
    "\n",
    "# 3. Активація середовища\n",
    "# Windows:\n",
    "myenv\\Scripts\\activate\n",
    "\n",
    "# Linux/macOS:\n",
    "source myenv/bin/activate\n",
    "\n",
    "# Встановлення необхідних пакетів\n",
    "pip install numpy matplotlib jupyter"
   ]
  },
  {
   "cell_type": "markdown",
   "id": "8c29c7c7-c3a5-46e4-b478-d8aa64313111",
   "metadata": {},
   "source": [
    "# Процедура сортування методом бульбашки на пайтоні"
   ]
  },
  {
   "cell_type": "code",
   "execution_count": 2,
   "id": "d8499217-1488-4657-8d7c-5f9f94a21f23",
   "metadata": {},
   "outputs": [
    {
     "name": "stdout",
     "output_type": "stream",
     "text": [
      "[1, 2, 3, 5, 8]\n"
     ]
    }
   ],
   "source": [
    "def bubble_sort(arr):\n",
    "    n = len(arr)\n",
    "    for i in range(n):\n",
    "        for j in range(0, n - i - 1):\n",
    "            if arr[j] > arr[j + 1]:\n",
    "                arr[j], arr[j + 1] = arr[j + 1], arr[j]\n",
    "\n",
    "# Приклад\n",
    "arr = [5, 3, 8, 1, 2]\n",
    "bubble_sort(arr)\n",
    "print(arr)"
   ]
  }
 ],
 "metadata": {
  "kernelspec": {
   "display_name": "Python 3 (ipykernel)",
   "language": "python",
   "name": "python3"
  },
  "language_info": {
   "codemirror_mode": {
    "name": "ipython",
    "version": 3
   },
   "file_extension": ".py",
   "mimetype": "text/x-python",
   "name": "python",
   "nbconvert_exporter": "python",
   "pygments_lexer": "ipython3",
   "version": "3.13.2"
  }
 },
 "nbformat": 4,
 "nbformat_minor": 5
}
