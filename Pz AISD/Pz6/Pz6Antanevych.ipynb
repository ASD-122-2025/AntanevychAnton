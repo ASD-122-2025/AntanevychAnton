{
 "cells": [
  {
   "cell_type": "markdown",
   "id": "7981eba5-79e2-40d5-be4f-2b43e6cccf53",
   "metadata": {},
   "source": [
    "# Практичне завдання №6\n",
    "**Номер за списком:** 1  \n",
    "\n",
    "---\n",
    "\n",
    "## Варіант 1  \n",
    "\n",
    "**Завдання:** \n",
    "\n",
    "![ ](../Pz6/Paint1.PNG)\n",
    "\n",
    "### Розв'язок: "
   ]
  },
  {
   "cell_type": "code",
   "execution_count": 3,
   "id": "b39a9b47-d58f-4a8c-87ff-02ee3c90644e",
   "metadata": {},
   "outputs": [
    {
     "name": "stdout",
     "output_type": "stream",
     "text": [
      "Найкоротші відстані від вершини 1:\n",
      "До 1: 0\n",
      "До 2: 7\n",
      "До 3: 9\n",
      "До 4: 20\n",
      "До 5: 20\n",
      "До 6: 11\n"
     ]
    }
   ],
   "source": [
    "# Граф у вигляді словника суміжності\n",
    "graph = {\n",
    "    1: {2: 7, 3: 9, 6: 14},\n",
    "    2: {1: 7, 3: 10, 4: 15},\n",
    "    3: {1: 9, 2: 10, 4: 11, 6: 2},\n",
    "    4: {2: 15, 3: 11, 5: 6},\n",
    "    5: {4: 6, 6: 9},\n",
    "    6: {1: 14, 3: 2, 5: 9}\n",
    "}\n",
    "\n",
    "def dijkstra(graph, start):\n",
    "    # Ініціалізація відстаней\n",
    "    distances = {vertex: float('inf') for vertex in graph}\n",
    "    distances[start] = 0\n",
    "\n",
    "    # Пріоритетна черга\n",
    "    priority_queue = [(0, start)]\n",
    "\n",
    "    while priority_queue:\n",
    "        current_distance, current_vertex = heapq.heappop(priority_queue)\n",
    "\n",
    "        # Якщо знайдено кращий шлях — ігноруємо\n",
    "        if current_distance > distances[current_vertex]:\n",
    "            continue\n",
    "\n",
    "        for neighbor, weight in graph[current_vertex].items():\n",
    "            distance = current_distance + weight\n",
    "\n",
    "            if distance < distances[neighbor]:\n",
    "                distances[neighbor] = distance\n",
    "                heapq.heappush(priority_queue, (distance, neighbor))\n",
    "\n",
    "    return distances\n",
    "\n",
    "# Виклик функції\n",
    "start_vertex = 1\n",
    "shortest_paths = dijkstra(graph, start_vertex)\n",
    "\n",
    "# Вивід результату\n",
    "print(f\"Найкоротші відстані від вершини {start_vertex}:\")\n",
    "for vertex, distance in shortest_paths.items():\n",
    "    print(f\"До {vertex}: {distance}\")\n"
   ]
  },
  {
   "cell_type": "markdown",
   "id": "dde8a2ce-a39f-4083-9390-5457e52b250b",
   "metadata": {},
   "source": [
    "| №  | Контрольнi питання                                                                 | Відповідь                                                                                     |\n",
    "|----|-------------------------------------------------------------------------------------|-----------------------------------------------------------------------------------------------|\n",
    "| 1  | Що таке граф і які головні складові його структури?                                | **Граф** — це набір вершин (вузлів), з'єднаних ребрами (зв'язками). Складові: <ul><li>Вершини (nodes)</li><li>Ребра (edges)</li><li>Можуть бути орієнтовані або неорієнтовані, з вагами або без</li></ul> |\n",
    "| 2  | Які алгоритми використовуються для пошуку найкоротших шляхів у графах?             | Найвідоміші алгоритми: <ul><li>Алгоритм Дейкстри</li><li>Алгоритм Беллмана–Форда</li><li>Алгоритм Флойда–Воршелла</li><li>Алгоритм A* (A-star)</li><li>BFS для невагових графів</li></ul> |\n",
    "| 3  | Як працює алгоритм Дейкстри і які його особливості?                                | <ul><li>Пошук найкоротших шляхів від однієї вершини до всіх інших</li><li>Працює тільки для графів без **негативних ваг ребер**</li><li>Використовує пріоритетну чергу (heap)</li><li>Жадібний підхід — обирає вершину з мінімальною відстанню на кожному кроці</li></ul> |\n",
    "| 4  | Що таке алгоритм Белмена–Форда і коли його варто застосовувати?                   | <ul><li>Пошук найкоротших шляхів від однієї вершини</li><li>Підходить для графів з **негативними вагами ребер**</li><li>Може виявляти **негативні цикли**</li><li>Складність: O(V·E)</li></ul> |\n",
    "| 5  | Як працює алгоритм Флойда–Форшала і які його переваги та недоліки?                | <ul><li>Знаходить найкоротші шляхи між **усіма парами вершин**</li><li>Динамічне програмування</li><li>Складність: O(V³)</li><li>Переваги: простота, працює з негативними вагами</li><li>Недоліки: неефективний для великих графів</li></ul> |\n"
   ]
  }
 ],
 "metadata": {
  "kernelspec": {
   "display_name": "Python 3 (ipykernel)",
   "language": "python",
   "name": "python3"
  },
  "language_info": {
   "codemirror_mode": {
    "name": "ipython",
    "version": 3
   },
   "file_extension": ".py",
   "mimetype": "text/x-python",
   "name": "python",
   "nbconvert_exporter": "python",
   "pygments_lexer": "ipython3",
   "version": "3.13.2"
  }
 },
 "nbformat": 4,
 "nbformat_minor": 5
}
